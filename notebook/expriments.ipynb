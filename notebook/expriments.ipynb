{
 "cells": [
  {
   "cell_type": "code",
   "execution_count": 1,
   "id": "initial_id",
   "metadata": {
    "collapsed": true,
    "ExecuteTime": {
     "end_time": "2024-02-16T20:04:08.338001300Z",
     "start_time": "2024-02-16T20:04:08.216118200Z"
    }
   },
   "outputs": [],
   "source": [
    "import os"
   ]
  },
  {
   "cell_type": "code",
   "outputs": [
    {
     "data": {
      "text/plain": "True"
     },
     "execution_count": 2,
     "metadata": {},
     "output_type": "execute_result"
    }
   ],
   "source": [
    "from dotenv import load_dotenv\n",
    "load_dotenv()"
   ],
   "metadata": {
    "collapsed": false,
    "ExecuteTime": {
     "end_time": "2024-02-16T20:04:20.930031400Z",
     "start_time": "2024-02-16T20:04:08.318998200Z"
    }
   },
   "id": "84f17b0392e31a05",
   "execution_count": 2
  },
  {
   "cell_type": "code",
   "outputs": [],
   "source": [
    "google_api_key = os.getenv(\"GOOGLE_API_KEY\")"
   ],
   "metadata": {
    "collapsed": false,
    "ExecuteTime": {
     "end_time": "2024-02-16T20:04:38.559798900Z",
     "start_time": "2024-02-16T20:04:38.504265400Z"
    }
   },
   "id": "7027a612a712fa25",
   "execution_count": 3
  },
  {
   "cell_type": "code",
   "outputs": [
    {
     "name": "stdout",
     "output_type": "stream",
     "text": [
      "api key found\n"
     ]
    }
   ],
   "source": [
    "if google_api_key:\n",
    "    print(\n",
    "        \"api key found\"\n",
    "    )\n",
    "else:\n",
    "    print(\"api key not found\")"
   ],
   "metadata": {
    "collapsed": false,
    "ExecuteTime": {
     "end_time": "2024-02-16T20:06:43.728493700Z",
     "start_time": "2024-02-16T20:06:43.516344900Z"
    }
   },
   "id": "b7040b36bebbc96",
   "execution_count": 6
  },
  {
   "cell_type": "code",
   "outputs": [],
   "source": [
    "import google.generativeai as genai\n",
    "\n",
    "from IPython.display import Markdown, display\n",
    "\n",
    "from llama_index.core import SimpleDirectoryReader\n",
    "from llama_index.core import VectorStoreIndex\n",
    "from llama_index.core import ServiceContext\n",
    "from llama_index.core import StorageContext, load_index_from_storage\n",
    "from llama_index.embeddings.gemini import GeminiEmbedding\n",
    "from llama_index.llms.gemini import Gemini\n"
   ],
   "metadata": {
    "collapsed": false,
    "ExecuteTime": {
     "end_time": "2024-02-16T20:14:10.341735300Z",
     "start_time": "2024-02-16T20:14:10.323247700Z"
    }
   },
   "id": "a6c7417eb6ebaf8a",
   "execution_count": 8
  },
  {
   "cell_type": "code",
   "outputs": [],
   "source": [
    "genai.configure(api_key=google_api_key)"
   ],
   "metadata": {
    "collapsed": false,
    "ExecuteTime": {
     "end_time": "2024-02-16T20:18:22.432598700Z",
     "start_time": "2024-02-16T20:18:22.406711Z"
    }
   },
   "id": "8789bd83922a7f2c",
   "execution_count": 9
  },
  {
   "cell_type": "code",
   "outputs": [
    {
     "name": "stdout",
     "output_type": "stream",
     "text": [
      "Model(name='models/chat-bison-001',\n",
      "      base_model_id='',\n",
      "      version='001',\n",
      "      display_name='PaLM 2 Chat (Legacy)',\n",
      "      description='A legacy text-only model optimized for chat conversations',\n",
      "      input_token_limit=4096,\n",
      "      output_token_limit=1024,\n",
      "      supported_generation_methods=['generateMessage', 'countMessageTokens'],\n",
      "      temperature=0.25,\n",
      "      top_p=0.95,\n",
      "      top_k=40)\n",
      "Model(name='models/text-bison-001',\n",
      "      base_model_id='',\n",
      "      version='001',\n",
      "      display_name='PaLM 2 (Legacy)',\n",
      "      description='A legacy model that understands text and generates text as an output',\n",
      "      input_token_limit=8196,\n",
      "      output_token_limit=1024,\n",
      "      supported_generation_methods=['generateText', 'countTextTokens', 'createTunedTextModel'],\n",
      "      temperature=0.7,\n",
      "      top_p=0.95,\n",
      "      top_k=40)\n",
      "Model(name='models/embedding-gecko-001',\n",
      "      base_model_id='',\n",
      "      version='001',\n",
      "      display_name='Embedding Gecko',\n",
      "      description='Obtain a distributed representation of a text.',\n",
      "      input_token_limit=1024,\n",
      "      output_token_limit=1,\n",
      "      supported_generation_methods=['embedText', 'countTextTokens'],\n",
      "      temperature=None,\n",
      "      top_p=None,\n",
      "      top_k=None)\n",
      "Model(name='models/gemini-1.0-pro',\n",
      "      base_model_id='',\n",
      "      version='001',\n",
      "      display_name='Gemini 1.0 Pro',\n",
      "      description='The best model for scaling across a wide range of tasks',\n",
      "      input_token_limit=30720,\n",
      "      output_token_limit=2048,\n",
      "      supported_generation_methods=['generateContent', 'countTokens'],\n",
      "      temperature=0.9,\n",
      "      top_p=1.0,\n",
      "      top_k=1)\n",
      "Model(name='models/gemini-1.0-pro-001',\n",
      "      base_model_id='',\n",
      "      version='001',\n",
      "      display_name='Gemini 1.0 Pro 001',\n",
      "      description=('The best model for scaling across a wide range of tasks. This is a stable '\n",
      "                   'model.'),\n",
      "      input_token_limit=30720,\n",
      "      output_token_limit=2048,\n",
      "      supported_generation_methods=['generateContent', 'countTokens'],\n",
      "      temperature=0.9,\n",
      "      top_p=1.0,\n",
      "      top_k=1)\n",
      "Model(name='models/gemini-1.0-pro-latest',\n",
      "      base_model_id='',\n",
      "      version='001',\n",
      "      display_name='Gemini 1.0 Pro Latest',\n",
      "      description=('The best model for scaling across a wide range of tasks. This is the latest '\n",
      "                   'model.'),\n",
      "      input_token_limit=30720,\n",
      "      output_token_limit=2048,\n",
      "      supported_generation_methods=['generateContent', 'countTokens'],\n",
      "      temperature=0.9,\n",
      "      top_p=1.0,\n",
      "      top_k=1)\n",
      "Model(name='models/gemini-1.0-pro-vision-latest',\n",
      "      base_model_id='',\n",
      "      version='001',\n",
      "      display_name='Gemini 1.0 Pro Vision',\n",
      "      description='The best image understanding model to handle a broad range of applications',\n",
      "      input_token_limit=12288,\n",
      "      output_token_limit=4096,\n",
      "      supported_generation_methods=['generateContent', 'countTokens'],\n",
      "      temperature=0.4,\n",
      "      top_p=1.0,\n",
      "      top_k=32)\n",
      "Model(name='models/gemini-pro',\n",
      "      base_model_id='',\n",
      "      version='001',\n",
      "      display_name='Gemini 1.0 Pro',\n",
      "      description='The best model for scaling across a wide range of tasks',\n",
      "      input_token_limit=30720,\n",
      "      output_token_limit=2048,\n",
      "      supported_generation_methods=['generateContent', 'countTokens'],\n",
      "      temperature=0.9,\n",
      "      top_p=1.0,\n",
      "      top_k=1)\n",
      "Model(name='models/gemini-pro-vision',\n",
      "      base_model_id='',\n",
      "      version='001',\n",
      "      display_name='Gemini 1.0 Pro Vision',\n",
      "      description='The best image understanding model to handle a broad range of applications',\n",
      "      input_token_limit=12288,\n",
      "      output_token_limit=4096,\n",
      "      supported_generation_methods=['generateContent', 'countTokens'],\n",
      "      temperature=0.4,\n",
      "      top_p=1.0,\n",
      "      top_k=32)\n",
      "Model(name='models/embedding-001',\n",
      "      base_model_id='',\n",
      "      version='001',\n",
      "      display_name='Embedding 001',\n",
      "      description='Obtain a distributed representation of a text.',\n",
      "      input_token_limit=2048,\n",
      "      output_token_limit=1,\n",
      "      supported_generation_methods=['embedContent', 'countTextTokens'],\n",
      "      temperature=None,\n",
      "      top_p=None,\n",
      "      top_k=None)\n",
      "Model(name='models/aqa',\n",
      "      base_model_id='',\n",
      "      version='001',\n",
      "      display_name='Model that performs Attributed Question Answering.',\n",
      "      description=('Model trained to return answers to questions that are grounded in provided '\n",
      "                   'sources, along with estimating answerable probability.'),\n",
      "      input_token_limit=7168,\n",
      "      output_token_limit=1024,\n",
      "      supported_generation_methods=['generateAnswer'],\n",
      "      temperature=0.2,\n",
      "      top_p=1.0,\n",
      "      top_k=40)\n"
     ]
    }
   ],
   "source": [
    "for models in genai.list_models():\n",
    "    print(models)"
   ],
   "metadata": {
    "collapsed": false,
    "ExecuteTime": {
     "end_time": "2024-02-16T20:45:13.053064500Z",
     "start_time": "2024-02-16T20:45:11.456749500Z"
    }
   },
   "id": "b3e28f33c54db2f3",
   "execution_count": 25
  },
  {
   "cell_type": "code",
   "outputs": [
    {
     "name": "stdout",
     "output_type": "stream",
     "text": [
      "models/gemini-1.0-pro\n",
      "models/gemini-1.0-pro-001\n",
      "models/gemini-1.0-pro-latest\n",
      "models/gemini-1.0-pro-vision-latest\n",
      "models/gemini-pro\n",
      "models/gemini-pro-vision\n"
     ]
    }
   ],
   "source": [
    "for models in genai.list_models():\n",
    "    if \"generateContent\" in models.supported_generation_methods:\n",
    "        print(models.name)"
   ],
   "metadata": {
    "collapsed": false,
    "ExecuteTime": {
     "end_time": "2024-02-16T20:20:45.327015700Z",
     "start_time": "2024-02-16T20:20:45.050512500Z"
    }
   },
   "id": "59a93926c744f448",
   "execution_count": 14
  },
  {
   "cell_type": "code",
   "outputs": [],
   "source": [
    "document = SimpleDirectoryReader(\"../Data\")"
   ],
   "metadata": {
    "collapsed": false,
    "ExecuteTime": {
     "end_time": "2024-02-16T20:43:24.917246900Z",
     "start_time": "2024-02-16T20:43:24.895468400Z"
    }
   },
   "id": "a503735d57d90dea",
   "execution_count": 22
  },
  {
   "cell_type": "code",
   "outputs": [],
   "source": [
    "doc = document.load_data()"
   ],
   "metadata": {
    "collapsed": false,
    "ExecuteTime": {
     "end_time": "2024-02-16T20:43:25.398354900Z",
     "start_time": "2024-02-16T20:43:25.376532900Z"
    }
   },
   "id": "ec2af4922414a214",
   "execution_count": 23
  },
  {
   "cell_type": "code",
   "outputs": [
    {
     "data": {
      "text/plain": "'Basic Concepts\\n\\nQ: What is Artificial Intelligence (AI)?\\n\\nA: AI is a branch of computer science focused on building intelligent machines that can perform tasks usually requiring human intelligence. This includes learning, reasoning, problem-solving, perception, and language understanding.\\nQ: What is the difference between AI, machine learning, and deep learning?\\n\\nA: AI is the overarching concept, while machine learning and deep learning are subsets:\\nMachine Learning: A type of AI where algorithms learn from data without explicit programming. They adjust their internal structures to improve accuracy on tasks\\nDeep Learning: A subset of machine learning using artificial neural networks (inspired by the human brain) with multiple layers of processing to uncover complex patterns from large datasets.\\nQ: Give some examples of AI in our everyday lives.\\n\\nA: AI is everywhere:\\nVirtual assistants (Siri, Alexa)\\nRecommendation systems (Netflix, Amazon)\\nSelf-driving cars\\nFacial recognition software\\nFraud detection systems\\nTechnical Aspects\\n\\nQ: What are neural networks?\\n\\nA: Neural networks are a machine learning technique inspired by the structure of the human brain. They consist of interconnected \"neurons\" (mathematical functions) arranged in layers to learn complex representations from data.\\nQ: Explain supervised vs. unsupervised learning.\\n\\nA:\\nSupervised Learning: Algorithms are trained on labeled data (inputs with corresponding correct outputs). The model learns to map inputs to outputs. Example: Classifying images of cats and dogs.\\nUnsupervised Learning: Algorithms analyze unlabeled data to find hidden patterns, clusters, or relationships. Example: Customer segmentation for targeted marketing.\\nQ: What is natural language processing (NLP)?\\n\\nA: NLP is a field of AI focused on enabling computers to understand, interpret, and generate human language. Applications include chatbots, sentiment analysis, machine translation, and text summarization.\\nPhilosophical and Ethical Considerations\\n\\nQ: Can AI become conscious or sentient?\\n\\nA: Current AI systems lack true consciousness or sentience like humans. While advanced AI may emulate behaviors that make it seem conscious, there\\'s debate about whether genuine awareness and subjective experience are achievable.\\nQ: What are the potential dangers of AI?\\n\\nA: Important considerations include:\\nJob Displacement: Automation may lead to certain jobs becoming obsolete\\nBias: AI systems can inherit bias from the data they were trained on\\nWeaponization: Autonomous lethal weapons raise ethical concerns\\nMisuse: The potential for AI-powered surveillance and manipulation needs careful address\\nQ: How can we ensure AI is used ethically and responsibly?\\n\\nA: Ethical AI development requires:\\nTransparency: Understanding how AI models make decisions to combat bias.\\nAccountability: Clear frameworks for responsibility when AI goes wrong.\\nPrivacy: Measures to protect personal data used by AI systems.\\nSocial Good: Ensuring AI benefits society at large.\\n\\n Describe reinforcement learning.\\n\\nA: Reinforcement learning is a type of machine learning where an agent learns by interacting with an environment. The agent receives rewards (or penalties) for its actions, aiming to maximize its cumulative reward over time. Use cases include game-playing AI, robotics, and personalized recommendations.\\nQ: What is the Turing Test?\\n\\nA: The Turing Test, proposed by Alan Turing, is a test of a machine\\'s ability to exhibit intelligent behavior indistinguishable from a human. A machine passes the test if a human judge cannot consistently differentiate the machine from a real human in a conversation. While influential, the Turing Test has its limitations in defining true intelligence.\\nQ: Explain the difference between symbolic AI and connectionist AI.\\n\\nA:\\nSymbolic AI: An early approach to AI focused on creating systems that manipulate symbols (numbers, letters) according to explicit rules to represent knowledge and reason. Example: Expert systems\\nConnectionist AI: Inspired by biological neurons, this approach emphasizes using artificial neural networks for pattern recognition and learning. The strength comes from distributed representations and discovering patterns directly from data. Example: Deep learning\\nAI History and Development\\n\\nQ: Name some key figures in the development of AI.\\n\\nA: Important pioneers include:\\nAlan Turing (Turing Test, theoretical foundations of computing)\\nJohn McCarthy (Coined the term \\'Artificial Intelligence\\')\\nMarvin Minsky (Expert systems, neural networks)\\nGeoffrey Hinton (Deep learning breakthroughs)\\nYann LeCun (Convolutional neural networks for image processing)\\nQ: What are some landmark AI achievements?\\n\\nA:\\nDeep Blue defeating chess world champion Garry Kasparov (1997)\\nIBM Watson winning Jeopardy! (2011)\\nAlphaGo defeating a world champion Go player (2016)\\nProgress in language generation models like GPT-3\\nQ: What is the AI winter?\\n\\nA: AI winters were periods of reduced funding and interest in AI research due to a combination of unmet expectations, limited computing power, and shifts in research focus. Several AI winters have occurred throughout AI\\'s history.\\nThe Future of AI\\n\\nQ:  What are the potential applications of Artificial General Intelligence (AGI)?\\n\\nA: AGI refers to hypothetical AI surpassing human intelligence across various domains. While not yet realized, potential applications include:\\nSolving complex scientific problems (drug discovery, climate modeling)\\nRevolutionizing industries and creative endeavors\\nRadically transforming society at large (though with potentially existential risks)\\nQ: How can we mitigate the risks of superintelligent AI?\\n\\nA: Superintelligence poses risks and profound ethical questions. Proactive steps are needed:\\nAI Alignment: Ensuring AI goals are aligned with human values\\nRobustness: Making AI systems resistant to hacking and unforeseen consequences.\\nInternational Cooperation: Establishing global norms and regulations for AI development.'"
     },
     "execution_count": 24,
     "metadata": {},
     "output_type": "execute_result"
    }
   ],
   "source": [
    "doc[0].text"
   ],
   "metadata": {
    "collapsed": false,
    "ExecuteTime": {
     "end_time": "2024-02-16T20:43:26.134815200Z",
     "start_time": "2024-02-16T20:43:26.104096Z"
    }
   },
   "id": "bfe2b4d2e8adfc2",
   "execution_count": 24
  },
  {
   "cell_type": "code",
   "outputs": [],
   "source": [
    "model = Gemini(models='gemini-pro', api_key=google_api_key)"
   ],
   "metadata": {
    "collapsed": false,
    "ExecuteTime": {
     "end_time": "2024-02-16T20:51:09.065617700Z",
     "start_time": "2024-02-16T20:51:07.453824800Z"
    }
   },
   "id": "9039736378f0c1af",
   "execution_count": 32
  },
  {
   "cell_type": "code",
   "outputs": [],
   "source": [
    "gemini_model_name = GeminiEmbedding()\n"
   ],
   "metadata": {
    "collapsed": false,
    "ExecuteTime": {
     "end_time": "2024-02-16T21:43:37.486528200Z",
     "start_time": "2024-02-16T21:43:37.465835800Z"
    }
   },
   "id": "37491854b52b06ef",
   "execution_count": 54
  },
  {
   "cell_type": "code",
   "outputs": [
    {
     "name": "stderr",
     "output_type": "stream",
     "text": [
      "C:\\Users\\nisha\\AppData\\Local\\Temp\\ipykernel_4416\\71546152.py:1: DeprecationWarning: Call to deprecated class method from_defaults. (ServiceContext is deprecated, please use `llama_index.settings.Settings` instead.) -- Deprecated since version 0.10.0.\n",
      "  service_context = ServiceContext.from_defaults(\n"
     ]
    }
   ],
   "source": [
    "service_context = ServiceContext.from_defaults(\n",
    "    llm=model,\n",
    "    embed_model=gemini_model_name, \n",
    "    chunk_size=800, \n",
    "    chunk_overlap=20\n",
    ")\n"
   ],
   "metadata": {
    "collapsed": false,
    "ExecuteTime": {
     "end_time": "2024-02-16T21:43:38.404609300Z",
     "start_time": "2024-02-16T21:43:38.375743800Z"
    }
   },
   "id": "ddcb6081941df635",
   "execution_count": 55
  },
  {
   "cell_type": "code",
   "outputs": [],
   "source": [
    "index = VectorStoreIndex.from_documents(doc,service_context=service_context)"
   ],
   "metadata": {
    "collapsed": false,
    "ExecuteTime": {
     "end_time": "2024-02-16T21:43:41.833436800Z",
     "start_time": "2024-02-16T21:43:39.523513Z"
    }
   },
   "id": "98e6ba37bc762836",
   "execution_count": 56
  },
  {
   "cell_type": "code",
   "outputs": [],
   "source": [
    "index.storage_context.persist()\n"
   ],
   "metadata": {
    "collapsed": false,
    "ExecuteTime": {
     "end_time": "2024-02-16T21:43:41.868203800Z",
     "start_time": "2024-02-16T21:43:41.837610500Z"
    }
   },
   "id": "1fa6ca0a86f754ed",
   "execution_count": 57
  },
  {
   "cell_type": "code",
   "outputs": [],
   "source": [
    "query_engine=index.as_query_engine()\n"
   ],
   "metadata": {
    "collapsed": false,
    "ExecuteTime": {
     "end_time": "2024-02-16T21:43:42.098298500Z",
     "start_time": "2024-02-16T21:43:42.070693200Z"
    }
   },
   "id": "6611128613af242d",
   "execution_count": 58
  },
  {
   "cell_type": "code",
   "outputs": [],
   "source": [
    "response=query_engine.query(\"What is the AI winter?\")\n"
   ],
   "metadata": {
    "collapsed": false,
    "ExecuteTime": {
     "end_time": "2024-02-16T21:43:48.315584400Z",
     "start_time": "2024-02-16T21:43:43.000576700Z"
    }
   },
   "id": "50277fe5a34eb14d",
   "execution_count": 59
  },
  {
   "cell_type": "code",
   "outputs": [
    {
     "name": "stdout",
     "output_type": "stream",
     "text": [
      "AI winters were periods of reduced funding and interest in AI research due to a combination of unmet expectations, limited computing power, and shifts in research focus. Several AI winters have occurred throughout AI's history.\n"
     ]
    }
   ],
   "source": [
    "print(response.response)\n"
   ],
   "metadata": {
    "collapsed": false,
    "ExecuteTime": {
     "end_time": "2024-02-16T21:43:48.334995800Z",
     "start_time": "2024-02-16T21:43:48.319113100Z"
    }
   },
   "id": "aa1fa3a506a5296d",
   "execution_count": 60
  },
  {
   "cell_type": "code",
   "outputs": [],
   "source": [
    "response=query_engine.query(\"what is a difference between supervised and unsupervised techniques?\")"
   ],
   "metadata": {
    "collapsed": false,
    "ExecuteTime": {
     "end_time": "2024-02-16T21:07:53.662970200Z",
     "start_time": "2024-02-16T21:07:48.021250500Z"
    }
   },
   "id": "ba7917e920f514f2",
   "execution_count": 51
  },
  {
   "cell_type": "code",
   "outputs": [
    {
     "name": "stdout",
     "output_type": "stream",
     "text": [
      "Supervised Learning: Algorithms are trained on labeled data (inputs with corresponding correct outputs). The model learns to map inputs to outputs. Example: Classifying images of cats and dogs.\n",
      "\n",
      "Unsupervised Learning: Algorithms analyze unlabeled data to find hidden patterns, clusters, or relationships. Example: Customer segmentation for targeted marketing.\n"
     ]
    }
   ],
   "source": [
    "print(response.response)"
   ],
   "metadata": {
    "collapsed": false,
    "ExecuteTime": {
     "end_time": "2024-02-16T21:07:53.679415300Z",
     "start_time": "2024-02-16T21:07:53.665048700Z"
    }
   },
   "id": "5427570dafba2f6b",
   "execution_count": 52
  },
  {
   "cell_type": "code",
   "outputs": [],
   "source": [
    "response=query_engine.query(\"who is nishkoder?\")"
   ],
   "metadata": {
    "collapsed": false,
    "ExecuteTime": {
     "end_time": "2024-02-16T21:02:03.554935400Z",
     "start_time": "2024-02-16T21:01:55.994446900Z"
    }
   },
   "id": "6728fe0e3b2bca3a",
   "execution_count": 47
  },
  {
   "cell_type": "code",
   "outputs": [
    {
     "name": "stdout",
     "output_type": "stream",
     "text": [
      "The provided context does not mention anything about nishkoder, so I cannot answer this question from the provided context.\n"
     ]
    }
   ],
   "source": [
    "print(response.response)\n"
   ],
   "metadata": {
    "collapsed": false,
    "ExecuteTime": {
     "end_time": "2024-02-16T21:02:07.348248300Z",
     "start_time": "2024-02-16T21:02:07.327065800Z"
    }
   },
   "id": "ad1d7ba277c3dee1",
   "execution_count": 48
  },
  {
   "cell_type": "code",
   "outputs": [],
   "source": [],
   "metadata": {
    "collapsed": false,
    "ExecuteTime": {
     "end_time": "2024-02-16T21:42:56.591478Z",
     "start_time": "2024-02-16T21:42:56.568985400Z"
    }
   },
   "id": "809c2314c86fd5f3",
   "execution_count": 53
  },
  {
   "cell_type": "code",
   "outputs": [],
   "source": [],
   "metadata": {
    "collapsed": false
   },
   "id": "3378a7d1fb6528dd"
  }
 ],
 "metadata": {
  "kernelspec": {
   "display_name": "Python 3",
   "language": "python",
   "name": "python3"
  },
  "language_info": {
   "codemirror_mode": {
    "name": "ipython",
    "version": 2
   },
   "file_extension": ".py",
   "mimetype": "text/x-python",
   "name": "python",
   "nbconvert_exporter": "python",
   "pygments_lexer": "ipython2",
   "version": "2.7.6"
  }
 },
 "nbformat": 4,
 "nbformat_minor": 5
}
